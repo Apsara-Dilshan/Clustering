{
  "nbformat": 4,
  "nbformat_minor": 0,
  "metadata": {
    "colab": {
      "name": "Clustering.ipynb",
      "provenance": [],
      "collapsed_sections": []
    },
    "kernelspec": {
      "name": "python3",
      "display_name": "Python 3"
    },
    "language_info": {
      "name": "python"
    }
  },
  "cells": [
    {
      "cell_type": "markdown",
      "source": [
        "# **Divisive Clustering**\n",
        "\n",
        "*   Divisive clustering algorithm is a top-down clustering approach.\n",
        "*   all the points in the dataset belong to one cluster and split is performed recursively as one moves down the hierarchy.\n",
        "*   This is an 'Unsupervised' learning algoritham. \n",
        "----------------------------------------------------------------------------\n",
        "*   In this tutorial, First create a data dictionary including Student Id, Height, Weight and Gender.\n",
        "*   Dictionary can be named as 'std_Dict'.\n",
        "\n",
        "\n",
        "\n",
        "\n",
        "\n",
        "\n",
        "\n"
      ],
      "metadata": {
        "id": "Lc__d2ds1ZMp"
      }
    },
    {
      "cell_type": "code",
      "execution_count": 7,
      "metadata": {
        "colab": {
          "base_uri": "https://localhost:8080/"
        },
        "id": "HSYf_TDW1Xy4",
        "outputId": "a4e31877-2670-4b55-d0ce-e751d998afca"
      },
      "outputs": [
        {
          "output_type": "stream",
          "name": "stdout",
          "text": [
            "{'id': ['001', '002', '003', '004', '005', '006', '007', '008', '009', '010', '011', '012', '013', '014', '015', '016', '017', '018', '019', '020', '021', '022', '023', '024', '025', '026', '027', '028', '029', '030'], 'height': ['150.6', '149.7', '138.9', '143.8', '150.1', '149.0', '155.6', '150.4', '143.8', '153.1', '154.2', '146.6', '149.6', '158.9', '149.2', '173.9', '186.4', '183.4', '178.5', '167.4', '182.4', '174.9', '163.4', '178.9', '188.8', '179.6', '185.5', '164.8', '177.9', '187.8'], 'weight': ['46.4', '48.9', '59.9', '54.8', '51.5', '44.9', '59.9', '48.9', '57.4', '46.4', '47.7', '57.8', '45.6', '46.2', '54.5', '72.9', '85.4', '77.4', '95.8', '86.8', '88.5', '96.4', '102.8', '78.9', '74.8', '86.5', '84.5', '79.8', '86.4', '77.9'], 'gender': ['F', 'F', 'F', 'F', 'F', 'F', 'F', 'F', 'F', 'F', 'F', 'F', 'F', 'F', 'F', 'M', 'M', 'M', 'M', 'M', 'M', 'M', 'M', 'M', 'M', 'M', 'M', 'M', 'M', 'M']}\n"
          ]
        }
      ],
      "source": [
        "std_Dict={'id':['001','002','003','004','005','006','007','008','009','010','011','012','013','014','015','016','017','018','019','020','021','022','023','024','025','026','027','028','029','030'],\n",
        "                 'height':['150.6','149.7','138.9','143.8','150.1','149.0','155.6','150.4','143.8','153.1','154.2','146.6','149.6','158.9','149.2','173.9','186.4','183.4','178.5','167.4','182.4','174.9','163.4','178.9','188.8','179.6','185.5','164.8','177.9','187.8'],\n",
        "                 'weight':['46.4','48.9','59.9','54.8','51.5','44.9','59.9','48.9','57.4','46.4','47.7','57.8','45.6','46.2','54.5','72.9','85.4','77.4','95.8','86.8','88.5','96.4','102.8','78.9','74.8','86.5','84.5','79.8','86.4','77.9'],\n",
        "                 'gender':['F','F','F','F','F','F','F','F','F','F','F','F','F','F','F','M','M','M','M','M','M','M','M','M','M','M','M','M','M','M']}\n",
        "\n",
        "print(std_Dict)\n",
        "                "
      ]
    },
    {
      "cell_type": "markdown",
      "source": [
        "## **Import Libraries**\n",
        "\n",
        "\n",
        "*   A Python library is a collection of related modules. It contains bundles of code that can be used repeatedly in different programs\n",
        "\n",
        "\n"
      ],
      "metadata": {
        "id": "CmmtPo-9GYzw"
      }
    },
    {
      "cell_type": "code",
      "source": [
        "import pandas as pd\n",
        "import numpy as np\n",
        "from matplotlib import pyplot as plt\n",
        "import seaborn as sns"
      ],
      "metadata": {
        "id": "cYwL7mc4GhGt"
      },
      "execution_count": 5,
      "outputs": []
    },
    {
      "cell_type": "markdown",
      "source": [
        "## Creating a Table from the (Std-Dict) Dictionary using **Pandas library**\n",
        "\n",
        "\n",
        "*   Pandas is an open source library in Python.  \n",
        "*   It provides ready to use high-performance data structures and data analysis tools.\n",
        "*   Pandas module runs on top of NumPy and it is popularly used for data science and data analytics\n",
        "\n",
        "\n",
        "\n"
      ],
      "metadata": {
        "id": "aQ3b1dUzGrI8"
      }
    },
    {
      "cell_type": "code",
      "source": [
        "data_values = pd.DataFrame.from_dict(std_Dict).set_index('id')\n",
        "data_values"
      ],
      "metadata": {
        "colab": {
          "base_uri": "https://localhost:8080/",
          "height": 1000
        },
        "id": "Q5GpuLDsG5Eh",
        "outputId": "97caa630-d477-48ae-942e-ad6739ba1332"
      },
      "execution_count": 8,
      "outputs": [
        {
          "output_type": "execute_result",
          "data": {
            "text/plain": [
              "    height weight gender\n",
              "id                      \n",
              "001  150.6   46.4      F\n",
              "002  149.7   48.9      F\n",
              "003  138.9   59.9      F\n",
              "004  143.8   54.8      F\n",
              "005  150.1   51.5      F\n",
              "006  149.0   44.9      F\n",
              "007  155.6   59.9      F\n",
              "008  150.4   48.9      F\n",
              "009  143.8   57.4      F\n",
              "010  153.1   46.4      F\n",
              "011  154.2   47.7      F\n",
              "012  146.6   57.8      F\n",
              "013  149.6   45.6      F\n",
              "014  158.9   46.2      F\n",
              "015  149.2   54.5      F\n",
              "016  173.9   72.9      M\n",
              "017  186.4   85.4      M\n",
              "018  183.4   77.4      M\n",
              "019  178.5   95.8      M\n",
              "020  167.4   86.8      M\n",
              "021  182.4   88.5      M\n",
              "022  174.9   96.4      M\n",
              "023  163.4  102.8      M\n",
              "024  178.9   78.9      M\n",
              "025  188.8   74.8      M\n",
              "026  179.6   86.5      M\n",
              "027  185.5   84.5      M\n",
              "028  164.8   79.8      M\n",
              "029  177.9   86.4      M\n",
              "030  187.8   77.9      M"
            ],
            "text/html": [
              "\n",
              "  <div id=\"df-c1dbc108-57ed-4686-888e-757a48febd64\">\n",
              "    <div class=\"colab-df-container\">\n",
              "      <div>\n",
              "<style scoped>\n",
              "    .dataframe tbody tr th:only-of-type {\n",
              "        vertical-align: middle;\n",
              "    }\n",
              "\n",
              "    .dataframe tbody tr th {\n",
              "        vertical-align: top;\n",
              "    }\n",
              "\n",
              "    .dataframe thead th {\n",
              "        text-align: right;\n",
              "    }\n",
              "</style>\n",
              "<table border=\"1\" class=\"dataframe\">\n",
              "  <thead>\n",
              "    <tr style=\"text-align: right;\">\n",
              "      <th></th>\n",
              "      <th>height</th>\n",
              "      <th>weight</th>\n",
              "      <th>gender</th>\n",
              "    </tr>\n",
              "    <tr>\n",
              "      <th>id</th>\n",
              "      <th></th>\n",
              "      <th></th>\n",
              "      <th></th>\n",
              "    </tr>\n",
              "  </thead>\n",
              "  <tbody>\n",
              "    <tr>\n",
              "      <th>001</th>\n",
              "      <td>150.6</td>\n",
              "      <td>46.4</td>\n",
              "      <td>F</td>\n",
              "    </tr>\n",
              "    <tr>\n",
              "      <th>002</th>\n",
              "      <td>149.7</td>\n",
              "      <td>48.9</td>\n",
              "      <td>F</td>\n",
              "    </tr>\n",
              "    <tr>\n",
              "      <th>003</th>\n",
              "      <td>138.9</td>\n",
              "      <td>59.9</td>\n",
              "      <td>F</td>\n",
              "    </tr>\n",
              "    <tr>\n",
              "      <th>004</th>\n",
              "      <td>143.8</td>\n",
              "      <td>54.8</td>\n",
              "      <td>F</td>\n",
              "    </tr>\n",
              "    <tr>\n",
              "      <th>005</th>\n",
              "      <td>150.1</td>\n",
              "      <td>51.5</td>\n",
              "      <td>F</td>\n",
              "    </tr>\n",
              "    <tr>\n",
              "      <th>006</th>\n",
              "      <td>149.0</td>\n",
              "      <td>44.9</td>\n",
              "      <td>F</td>\n",
              "    </tr>\n",
              "    <tr>\n",
              "      <th>007</th>\n",
              "      <td>155.6</td>\n",
              "      <td>59.9</td>\n",
              "      <td>F</td>\n",
              "    </tr>\n",
              "    <tr>\n",
              "      <th>008</th>\n",
              "      <td>150.4</td>\n",
              "      <td>48.9</td>\n",
              "      <td>F</td>\n",
              "    </tr>\n",
              "    <tr>\n",
              "      <th>009</th>\n",
              "      <td>143.8</td>\n",
              "      <td>57.4</td>\n",
              "      <td>F</td>\n",
              "    </tr>\n",
              "    <tr>\n",
              "      <th>010</th>\n",
              "      <td>153.1</td>\n",
              "      <td>46.4</td>\n",
              "      <td>F</td>\n",
              "    </tr>\n",
              "    <tr>\n",
              "      <th>011</th>\n",
              "      <td>154.2</td>\n",
              "      <td>47.7</td>\n",
              "      <td>F</td>\n",
              "    </tr>\n",
              "    <tr>\n",
              "      <th>012</th>\n",
              "      <td>146.6</td>\n",
              "      <td>57.8</td>\n",
              "      <td>F</td>\n",
              "    </tr>\n",
              "    <tr>\n",
              "      <th>013</th>\n",
              "      <td>149.6</td>\n",
              "      <td>45.6</td>\n",
              "      <td>F</td>\n",
              "    </tr>\n",
              "    <tr>\n",
              "      <th>014</th>\n",
              "      <td>158.9</td>\n",
              "      <td>46.2</td>\n",
              "      <td>F</td>\n",
              "    </tr>\n",
              "    <tr>\n",
              "      <th>015</th>\n",
              "      <td>149.2</td>\n",
              "      <td>54.5</td>\n",
              "      <td>F</td>\n",
              "    </tr>\n",
              "    <tr>\n",
              "      <th>016</th>\n",
              "      <td>173.9</td>\n",
              "      <td>72.9</td>\n",
              "      <td>M</td>\n",
              "    </tr>\n",
              "    <tr>\n",
              "      <th>017</th>\n",
              "      <td>186.4</td>\n",
              "      <td>85.4</td>\n",
              "      <td>M</td>\n",
              "    </tr>\n",
              "    <tr>\n",
              "      <th>018</th>\n",
              "      <td>183.4</td>\n",
              "      <td>77.4</td>\n",
              "      <td>M</td>\n",
              "    </tr>\n",
              "    <tr>\n",
              "      <th>019</th>\n",
              "      <td>178.5</td>\n",
              "      <td>95.8</td>\n",
              "      <td>M</td>\n",
              "    </tr>\n",
              "    <tr>\n",
              "      <th>020</th>\n",
              "      <td>167.4</td>\n",
              "      <td>86.8</td>\n",
              "      <td>M</td>\n",
              "    </tr>\n",
              "    <tr>\n",
              "      <th>021</th>\n",
              "      <td>182.4</td>\n",
              "      <td>88.5</td>\n",
              "      <td>M</td>\n",
              "    </tr>\n",
              "    <tr>\n",
              "      <th>022</th>\n",
              "      <td>174.9</td>\n",
              "      <td>96.4</td>\n",
              "      <td>M</td>\n",
              "    </tr>\n",
              "    <tr>\n",
              "      <th>023</th>\n",
              "      <td>163.4</td>\n",
              "      <td>102.8</td>\n",
              "      <td>M</td>\n",
              "    </tr>\n",
              "    <tr>\n",
              "      <th>024</th>\n",
              "      <td>178.9</td>\n",
              "      <td>78.9</td>\n",
              "      <td>M</td>\n",
              "    </tr>\n",
              "    <tr>\n",
              "      <th>025</th>\n",
              "      <td>188.8</td>\n",
              "      <td>74.8</td>\n",
              "      <td>M</td>\n",
              "    </tr>\n",
              "    <tr>\n",
              "      <th>026</th>\n",
              "      <td>179.6</td>\n",
              "      <td>86.5</td>\n",
              "      <td>M</td>\n",
              "    </tr>\n",
              "    <tr>\n",
              "      <th>027</th>\n",
              "      <td>185.5</td>\n",
              "      <td>84.5</td>\n",
              "      <td>M</td>\n",
              "    </tr>\n",
              "    <tr>\n",
              "      <th>028</th>\n",
              "      <td>164.8</td>\n",
              "      <td>79.8</td>\n",
              "      <td>M</td>\n",
              "    </tr>\n",
              "    <tr>\n",
              "      <th>029</th>\n",
              "      <td>177.9</td>\n",
              "      <td>86.4</td>\n",
              "      <td>M</td>\n",
              "    </tr>\n",
              "    <tr>\n",
              "      <th>030</th>\n",
              "      <td>187.8</td>\n",
              "      <td>77.9</td>\n",
              "      <td>M</td>\n",
              "    </tr>\n",
              "  </tbody>\n",
              "</table>\n",
              "</div>\n",
              "      <button class=\"colab-df-convert\" onclick=\"convertToInteractive('df-c1dbc108-57ed-4686-888e-757a48febd64')\"\n",
              "              title=\"Convert this dataframe to an interactive table.\"\n",
              "              style=\"display:none;\">\n",
              "        \n",
              "  <svg xmlns=\"http://www.w3.org/2000/svg\" height=\"24px\"viewBox=\"0 0 24 24\"\n",
              "       width=\"24px\">\n",
              "    <path d=\"M0 0h24v24H0V0z\" fill=\"none\"/>\n",
              "    <path d=\"M18.56 5.44l.94 2.06.94-2.06 2.06-.94-2.06-.94-.94-2.06-.94 2.06-2.06.94zm-11 1L8.5 8.5l.94-2.06 2.06-.94-2.06-.94L8.5 2.5l-.94 2.06-2.06.94zm10 10l.94 2.06.94-2.06 2.06-.94-2.06-.94-.94-2.06-.94 2.06-2.06.94z\"/><path d=\"M17.41 7.96l-1.37-1.37c-.4-.4-.92-.59-1.43-.59-.52 0-1.04.2-1.43.59L10.3 9.45l-7.72 7.72c-.78.78-.78 2.05 0 2.83L4 21.41c.39.39.9.59 1.41.59.51 0 1.02-.2 1.41-.59l7.78-7.78 2.81-2.81c.8-.78.8-2.07 0-2.86zM5.41 20L4 18.59l7.72-7.72 1.47 1.35L5.41 20z\"/>\n",
              "  </svg>\n",
              "      </button>\n",
              "      \n",
              "  <style>\n",
              "    .colab-df-container {\n",
              "      display:flex;\n",
              "      flex-wrap:wrap;\n",
              "      gap: 12px;\n",
              "    }\n",
              "\n",
              "    .colab-df-convert {\n",
              "      background-color: #E8F0FE;\n",
              "      border: none;\n",
              "      border-radius: 50%;\n",
              "      cursor: pointer;\n",
              "      display: none;\n",
              "      fill: #1967D2;\n",
              "      height: 32px;\n",
              "      padding: 0 0 0 0;\n",
              "      width: 32px;\n",
              "    }\n",
              "\n",
              "    .colab-df-convert:hover {\n",
              "      background-color: #E2EBFA;\n",
              "      box-shadow: 0px 1px 2px rgba(60, 64, 67, 0.3), 0px 1px 3px 1px rgba(60, 64, 67, 0.15);\n",
              "      fill: #174EA6;\n",
              "    }\n",
              "\n",
              "    [theme=dark] .colab-df-convert {\n",
              "      background-color: #3B4455;\n",
              "      fill: #D2E3FC;\n",
              "    }\n",
              "\n",
              "    [theme=dark] .colab-df-convert:hover {\n",
              "      background-color: #434B5C;\n",
              "      box-shadow: 0px 1px 3px 1px rgba(0, 0, 0, 0.15);\n",
              "      filter: drop-shadow(0px 1px 2px rgba(0, 0, 0, 0.3));\n",
              "      fill: #FFFFFF;\n",
              "    }\n",
              "  </style>\n",
              "\n",
              "      <script>\n",
              "        const buttonEl =\n",
              "          document.querySelector('#df-c1dbc108-57ed-4686-888e-757a48febd64 button.colab-df-convert');\n",
              "        buttonEl.style.display =\n",
              "          google.colab.kernel.accessAllowed ? 'block' : 'none';\n",
              "\n",
              "        async function convertToInteractive(key) {\n",
              "          const element = document.querySelector('#df-c1dbc108-57ed-4686-888e-757a48febd64');\n",
              "          const dataTable =\n",
              "            await google.colab.kernel.invokeFunction('convertToInteractive',\n",
              "                                                     [key], {});\n",
              "          if (!dataTable) return;\n",
              "\n",
              "          const docLinkHtml = 'Like what you see? Visit the ' +\n",
              "            '<a target=\"_blank\" href=https://colab.research.google.com/notebooks/data_table.ipynb>data table notebook</a>'\n",
              "            + ' to learn more about interactive tables.';\n",
              "          element.innerHTML = '';\n",
              "          dataTable['output_type'] = 'display_data';\n",
              "          await google.colab.output.renderOutput(dataTable, element);\n",
              "          const docLink = document.createElement('div');\n",
              "          docLink.innerHTML = docLinkHtml;\n",
              "          element.appendChild(docLink);\n",
              "        }\n",
              "      </script>\n",
              "    </div>\n",
              "  </div>\n",
              "  "
            ]
          },
          "metadata": {},
          "execution_count": 8
        }
      ]
    },
    {
      "cell_type": "markdown",
      "source": [
        "## Drawing a Scatterplot using **Matplotlib Library**\n",
        "\n",
        "*   Matplotlib is a cross-platform, data visualization and graphical plotting library for Python and its numerical extension NumPy. \n",
        "*   It offers a viable open source alternative to MATLAB. Developers can also use matplotlib's APIs (Application Programming Interfaces) to embed plots in GUI applications.\n",
        "\n",
        "A scatter plot is a type of plot or mathematical diagram using Cartesian coordinates to display values for typically two variables for a set of data\n",
        "\n"
      ],
      "metadata": {
        "id": "wh86XIBVHHKd"
      }
    },
    {
      "cell_type": "code",
      "source": [
        "plt.style.use('seaborn')\n",
        "\n",
        "height = [150.6,149.7,138.9,143.8,150.1,149.0,155.6,150.4,143.8,153.1,154.2,146.6,149.6,158.9,149.2,173.9,186.4,183.4,178.5,167.4,182.4,174.9,163.4,178.9,188.8,179.6,185.5,164.8,177.9,187.8]\n",
        "weight = [46.4,48.9,59.9,54.8,51.5,44.9,59.9,48.9,57.4,46.4,47.7,57.8,45.6,46.2,54.5,72.9,85.4,77.4,95.8,86.8,88.5,96.4,102.8,78.9,74.8,86.5,84.5,79.8,86.4,77.9]\n",
        "\n",
        "plt.scatter(height, weight)\n"
      ],
      "metadata": {
        "colab": {
          "base_uri": "https://localhost:8080/",
          "height": 364
        },
        "id": "rQOe2hCAoJfT",
        "outputId": "de40acad-c3b8-4b2c-87dc-e26bf9bed886"
      },
      "execution_count": 9,
      "outputs": [
        {
          "output_type": "execute_result",
          "data": {
            "text/plain": [
              "<matplotlib.collections.PathCollection at 0x7fac7522b250>"
            ]
          },
          "metadata": {},
          "execution_count": 9
        },
        {
          "output_type": "display_data",
          "data": {
            "text/plain": [
              "<Figure size 576x396 with 1 Axes>"
            ],
            "image/png": "[encoded data removed]"
          },
          "metadata": {}
        }
      ]
    },
    {
      "cell_type": "markdown",
      "source": [
        "After ploting the scatterplot, we can closely see there are 02 different Groups of Data are available. Our Data set can be clustterd based on the weight and height."
      ],
      "metadata": {
        "id": "gj4C8l9Ed9kH"
      }
    },
    {
      "cell_type": "markdown",
      "source": [
        "## Displaying the data in a **dedrogram**\n",
        "\n",
        "A dendrogram is a diagram that shows the hierarchical relationship between objects. It is most commonly created as an output from hierarchical clustering.\n",
        "\n"
      ],
      "metadata": {
        "id": "Y8hi_v8keEmz"
      }
    },
    {
      "cell_type": "code",
      "source": [
        "import scipy.cluster.hierarchy as sc\n",
        "\n",
        "values = {'Height_Val':std_Dict['height'],'Weight_Val':std_Dict['weight']}\n",
        "data = pd.DataFrame(values)\n",
        "data\n",
        "\n",
        "# Plot the hierarchical clustering as a dendrogram.\n",
        "\n",
        "dendrogram = sc.dendrogram(sc.linkage(data, method='ward'))\n",
        "\n",
        "plt.title('Dendrogram')\n",
        "plt.show()"
      ],
      "metadata": {
        "colab": {
          "base_uri": "https://localhost:8080/",
          "height": 367
        },
        "id": "-nptPpkffDB7",
        "outputId": "f2b36d91-e884-4861-d57c-850bf3e9097c"
      },
      "execution_count": 10,
      "outputs": [
        {
          "output_type": "display_data",
          "data": {
            "text/plain": [
              "<Figure size 576x396 with 1 Axes>"
            ],
            "image/png": "[encoded data removed]"
          },
          "metadata": {}
        }
      ]
    },
    {
      "cell_type": "markdown",
      "source": [
        "**Ward linkage**: Also known as MISSQ (Minimal Increase of Sum-of-Squares). It specifies the distance between two clusters, computes the sum of squares error, and successively chooses the next clusters based on the smaller ESS.\n",
        "\n",
        "Ward's method will reduce the Error."
      ],
      "metadata": {
        "id": "ElWRtU2ThuHl"
      }
    },
    {
      "cell_type": "markdown",
      "source": [
        "## **Plot the Dendogram with threshhold points**\n",
        "**Plot the Dendogram with threshhold points**\n",
        "\n",
        "Finding an interesting number of clusters in a dendrogram is the same as finding the largest horizontal space that doesn't have any vertical lines (the space with the longest vertical lines). This means that there's more separation between the clusters."
      ],
      "metadata": {
        "id": "tZqEy_AjhxIi"
      }
    },
    {
      "cell_type": "code",
      "source": [
        "plt.figure(figsize=(10, 7))\n",
        "plt.title(\"Dendogram with line\")\n",
        "clusters = sc.linkage(data, \n",
        "            method='ward', \n",
        "            metric=\"euclidean\")\n",
        "sc.dendrogram(clusters)\n",
        "plt.axhline(y = 60, color = 'r', linestyle = '--')"
      ],
      "metadata": {
        "colab": {
          "base_uri": "https://localhost:8080/",
          "height": 465
        },
        "id": "TTefCMKFiRyK",
        "outputId": "efe4cbb4-0aef-4a0a-c678-f5db43919f48"
      },
      "execution_count": 11,
      "outputs": [
        {
          "output_type": "execute_result",
          "data": {
            "text/plain": [
              "<matplotlib.lines.Line2D at 0x7fac751e3290>"
            ]
          },
          "metadata": {},
          "execution_count": 11
        },
        {
          "output_type": "display_data",
          "data": {
            "text/plain": [
              "<Figure size 720x504 with 1 Axes>"
            ],
            "image/png": "[encoded data removed]"
          },
          "metadata": {}
        }
      ]
    },
    {
      "cell_type": "markdown",
      "source": [
        "After locating the horizontal line, we count how many times our vertical lines were crossed by it - In this data set, 2 times.\n",
        "\n",
        "Therefore, The whole Cluster can be dividied into 02 parts.\n",
        "\n",
        "\n",
        "\n",
        "1.   [13, 9, 10, 0, 5, 12, 14, 4, 1, 7, 6, 2, 11, 3, 8]\n",
        "2.   [16, 26, 20, 25, 28, 24, 29, 15, 17, 23, 19, 27, 22, 18, 21]\n",
        "\n",
        "\n",
        "\n"
      ],
      "metadata": {
        "id": "QbqIOy9YjD9E"
      }
    },
    {
      "cell_type": "code",
      "source": [
        "from sklearn.cluster import AgglomerativeClustering\n",
        "cluster = AgglomerativeClustering(n_clusters=2, affinity='euclidean', linkage='ward')  \n",
        "cluster.fit_predict(data)\n"
      ],
      "metadata": {
        "colab": {
          "base_uri": "https://localhost:8080/"
        },
        "id": "2LP8R5Xkysx6",
        "outputId": "25071b6c-7843-4fa6-b1b5-af4d625ea6d6"
      },
      "execution_count": 12,
      "outputs": [
        {
          "output_type": "execute_result",
          "data": {
            "text/plain": [
              "array([1, 1, 1, 1, 1, 1, 1, 1, 1, 1, 1, 1, 1, 1, 1, 0, 0, 0, 0, 0, 0, 0,\n",
              "       0, 0, 0, 0, 0, 0, 0, 0])"
            ]
          },
          "metadata": {},
          "execution_count": 12
        }
      ]
    },
    {
      "cell_type": "markdown",
      "source": [
        "From the above array you can clearly see there are 02 clusters availble.\n",
        "\n",
        "*Note:\n",
        "\n",
        "The dendrogram should be considered only as a reference when used to choose the number of clusters. It can easily get that number way off and is completely influenced by the type of linkage and distance metrics"
      ],
      "metadata": {
        "id": "0zbAsIfPy10B"
      }
    },
    {
      "cell_type": "markdown",
      "source": [
        "### Let's Divided the above two clusters into another sub clusters."
      ],
      "metadata": {
        "id": "ol89arGuy-QR"
      }
    },
    {
      "cell_type": "code",
      "source": [
        "data_labels_pca = cluster.labels_\n",
        "\n",
        "sns.scatterplot(x=std_Dict['height'], \n",
        "                y=std_Dict['weight'],\n",
        "                hue=data_labels_pca,\n",
        "                palette=\"rainbow\").set_title('Scatter Plot')\n",
        "                "
      ],
      "metadata": {
        "colab": {
          "base_uri": "https://localhost:8080/",
          "height": 379
        },
        "id": "QStUyJ6szC53",
        "outputId": "804168bb-0a6c-44b7-83bc-63f74db01214"
      },
      "execution_count": 13,
      "outputs": [
        {
          "output_type": "execute_result",
          "data": {
            "text/plain": [
              "Text(0.5, 1.0, 'Scatter Plot')"
            ]
          },
          "metadata": {},
          "execution_count": 13
        },
        {
          "output_type": "display_data",
          "data": {
            "text/plain": [
              "<Figure size 576x396 with 1 Axes>"
            ],
            "image/png": "[encoded data removed]"
          },
          "metadata": {}
        }
      ]
    },
    {
      "cell_type": "code",
      "source": [
        "plt.figure(figsize=(10, 7))\n",
        "plt.title(\"Dendogram with line\")\n",
        "clusters = sc.linkage(data, \n",
        "            method='ward', \n",
        "            metric=\"euclidean\")\n",
        "sc.dendrogram(clusters)\n",
        "plt.axhline(y = 27, color = 'r', linestyle = '--')"
      ],
      "metadata": {
        "colab": {
          "base_uri": "https://localhost:8080/",
          "height": 465
        },
        "id": "ZfbC1jb041zZ",
        "outputId": "70624fba-f042-4639-990a-9a7f934cba06"
      },
      "execution_count": 18,
      "outputs": [
        {
          "output_type": "execute_result",
          "data": {
            "text/plain": [
              "<matplotlib.lines.Line2D at 0x7fac723f7d10>"
            ]
          },
          "metadata": {},
          "execution_count": 18
        },
        {
          "output_type": "display_data",
          "data": {
            "text/plain": [
              "<Figure size 720x504 with 1 Axes>"
            ],
            "image/png": "[encoded data removed]"
          },
          "metadata": {}
        }
      ]
    },
    {
      "cell_type": "markdown",
      "source": [
        "After locating the horizontal line, we count how many times our vertical lines were crossed by it - In this data set, 4 times.\n",
        "\n",
        "Therefore, The whole Cluster can be dividied into 04 parts."
      ],
      "metadata": {
        "id": "cpSpf2e148qp"
      }
    },
    {
      "cell_type": "code",
      "source": [
        "from sklearn.cluster import AgglomerativeClustering\n",
        "cluster = AgglomerativeClustering(n_clusters=4, affinity='euclidean', linkage='ward')  \n",
        "cluster.fit_predict(data)"
      ],
      "metadata": {
        "colab": {
          "base_uri": "https://localhost:8080/"
        },
        "id": "RbiFoJUN4-Cb",
        "outputId": "7304dc2b-b6ad-45ff-f763-e0caf1ec7ea0"
      },
      "execution_count": 19,
      "outputs": [
        {
          "output_type": "execute_result",
          "data": {
            "text/plain": [
              "array([3, 3, 1, 1, 3, 3, 1, 3, 1, 3, 3, 1, 3, 3, 3, 2, 2, 2, 0, 0, 2, 0,\n",
              "       0, 2, 2, 2, 2, 0, 2, 2])"
            ]
          },
          "metadata": {},
          "execution_count": 19
        }
      ]
    },
    {
      "cell_type": "markdown",
      "source": [
        "The above array shows how data points are clustered into 04 groups.\n",
        "\n",
        "Likewise we can divide the whole cluster into single element clusters by using the divisive clusterring algoritham."
      ],
      "metadata": {
        "id": "kffGvTGh5DRK"
      }
    }
  ]
}